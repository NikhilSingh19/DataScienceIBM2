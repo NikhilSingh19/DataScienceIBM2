{
 "cells": [
  {
   "cell_type": "markdown",
   "id": "ee00b2c2-3537-4175-ab7a-10397c342e85",
   "metadata": {
    "tags": []
   },
   "source": [
    "# Data Science Tools and Ecosystem"
   ]
  },
  {
   "cell_type": "markdown",
   "id": "5e48f1c3-61c5-482d-a794-f7f4bd1bbead",
   "metadata": {},
   "source": [
    "In this notebook, Data Science Tools and Ecosystem are summarized."
   ]
  },
  {
   "cell_type": "markdown",
   "id": "14aa15ba-fc42-46f7-af68-76566f2cc821",
   "metadata": {},
   "source": [
    "Some of the popular languages that Data Scientists use are:\n",
    "1. Python\n",
    "2. R\n",
    "3. C++"
   ]
  },
  {
   "cell_type": "markdown",
   "id": "5e23b3e2-8633-438c-b9a6-ec445f130069",
   "metadata": {},
   "source": [
    "Some of the commonly used libraries used by Data Scientists include:\n",
    "1. Matplotlib\n",
    "2. Numpy\n",
    "3. Pandas"
   ]
  },
  {
   "cell_type": "markdown",
   "id": "2be0fac3-2be9-46e2-97f4-2028c8ded366",
   "metadata": {},
   "source": [
    "| Data Science Tools |\n",
    "|:--------:|\n",
    "| Anaconda |\n",
    "| Jupyter |\n",
    "| Google Colab |"
   ]
  },
  {
   "cell_type": "markdown",
   "id": "ac608f64-c3d1-488a-8fda-a2865163d76f",
   "metadata": {
    "tags": []
   },
   "source": [
    "### Below are a few examples of evaluating arithmetic expressions in Python"
   ]
  },
  {
   "cell_type": "code",
   "execution_count": 5,
   "id": "f9380542-8d82-44ec-b1f6-d1aa1cefa6cb",
   "metadata": {
    "tags": []
   },
   "outputs": [
    {
     "data": {
      "text/plain": [
       "17"
      ]
     },
     "execution_count": 5,
     "metadata": {},
     "output_type": "execute_result"
    }
   ],
   "source": [
    "## This a simple arithmetic expression to mutiply then add integers\n",
    "(3*4)+5"
   ]
  },
  {
   "cell_type": "code",
   "execution_count": 6,
   "id": "d17f146c-ae42-44b3-bff7-19b94a9fc301",
   "metadata": {
    "tags": []
   },
   "outputs": [
    {
     "data": {
      "text/plain": [
       "3.3333333333333335"
      ]
     },
     "execution_count": 6,
     "metadata": {},
     "output_type": "execute_result"
    }
   ],
   "source": [
    "## This will convert 200 minutes to hours by diving by 60\n",
    "200 / 60"
   ]
  },
  {
   "cell_type": "markdown",
   "id": "2858d1be-36ff-4f97-b4bf-6d293178fdac",
   "metadata": {
    "tags": []
   },
   "source": [
    "**Objectives:**\n",
    "1. List Popular Languages\n",
    "2. List Commonly used libraries\n",
    "3. Demonstrate basic arithmetic\n"
   ]
  },
  {
   "cell_type": "markdown",
   "id": "b80ec2c2-b427-4870-9c06-c195cce1fc28",
   "metadata": {
    "tags": []
   },
   "source": [
    "## Author\n",
    "Nikhil Singh"
   ]
  },
  {
   "cell_type": "code",
   "execution_count": null,
   "id": "bc31c875-0b92-46e1-beab-ed5008862e2e",
   "metadata": {},
   "outputs": [],
   "source": []
  }
 ],
 "metadata": {
  "kernelspec": {
   "display_name": "Python",
   "language": "python",
   "name": "conda-env-python-py"
  },
  "language_info": {
   "codemirror_mode": {
    "name": "ipython",
    "version": 3
   },
   "file_extension": ".py",
   "mimetype": "text/x-python",
   "name": "python",
   "nbconvert_exporter": "python",
   "pygments_lexer": "ipython3",
   "version": "3.7.12"
  }
 },
 "nbformat": 4,
 "nbformat_minor": 5
}
